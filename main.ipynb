{
 "cells": [
  {
   "cell_type": "code",
   "execution_count": 1,
   "metadata": {},
   "outputs": [
    {
     "name": "stderr",
     "output_type": "stream",
     "text": [
      "stty: 'standard input': Inappropriate ioctl for device\n"
     ]
    },
    {
     "name": "stdout",
     "output_type": "stream",
     "text": [
      "not enough values to unpack (expected 2, got 0)\n"
     ]
    }
   ],
   "source": [
    "import torch\n",
    "import torch.nn as nn\n",
    "import torch.nn.functional as F\n",
    "import torch.optim as optim\n",
    "from torchvision import models\n",
    "\n",
    "from nbdt.model import SoftNBDT\n",
    "from nbdt.models import wrn28_10_cifar10\n",
    "from decompose import decompose\n",
    "\n",
    "import numpy as np\n",
    "import random\n",
    "import matplotlib.pyplot as plt\n",
    "\n",
    "from data_loader_cifar10 import get_train_valid_loader, get_test_loader\n",
    "from pytorchtools import EarlyStopping, test_model, train_model\n",
    "\n",
    "device = torch.device('cuda' if torch.cuda.is_available() else 'cpu')"
   ]
  },
  {
   "cell_type": "markdown",
   "metadata": {},
   "source": [
    "# Load Data"
   ]
  },
  {
   "cell_type": "code",
   "execution_count": 2,
   "metadata": {},
   "outputs": [
    {
     "name": "stdout",
     "output_type": "stream",
     "text": [
      "Files already downloaded and verified\n",
      "Files already downloaded and verified\n",
      "Files already downloaded and verified\n"
     ]
    }
   ],
   "source": [
    "batch_size = 128\n",
    "\n",
    "trainloader, validloader = get_train_valid_loader(\"./data\", batch_size, False, random_seed=0)\n",
    "testloader = get_test_loader(\"./data\", batch_size, random_seed=0)"
   ]
  },
  {
   "cell_type": "markdown",
   "metadata": {},
   "source": [
    "# Pretrained (WideResNet)"
   ]
  },
  {
   "cell_type": "markdown",
   "metadata": {},
   "source": [
    "### Test Pretrained model"
   ]
  },
  {
   "cell_type": "code",
   "execution_count": 3,
   "metadata": {},
   "outputs": [
    {
     "name": "stdout",
     "output_type": "stream",
     "text": [
      "Parameters in model: 36479194\n",
      "CarbonTracker: The following components were found: GPU with device(s) NVIDIA GeForce RTX 3060 Ti. CPU with device(s) cpu:0.\n",
      "CarbonTracker: INFO - Traceback (most recent call last):\n",
      "  File \"/home/borge/anaconda3/lib/python3.9/site-packages/carbontracker/emissions/intensity/intensity.py\", line 62, in carbon_intensity\n",
      "    carbon_intensity = fetcher.carbon_intensity(g_location, time_dur)\n",
      "  File \"/home/borge/anaconda3/lib/python3.9/site-packages/carbontracker/emissions/intensity/fetchers/energidataservice.py\", line 19, in carbon_intensity\n",
      "    ci = self._emission_current()\n",
      "  File \"/home/borge/anaconda3/lib/python3.9/site-packages/carbontracker/emissions/intensity/fetchers/energidataservice.py\", line 42, in _emission_current\n",
      "    raise exceptions.CarbonIntensityFetcherError(response.json())\n",
      "carbontracker.exceptions.CarbonIntensityFetcherError: {'help': 'https://www.energidataservice.dk/guides/api-guides', 'success': False, 'error': {'info': {'orig': ['API has moved. See https://www.energidataservice.dk/news']}, '__type': 'Not found'}}\n",
      "\n",
      "CarbonTracker: INFO - Traceback (most recent call last):\n",
      "  File \"/home/borge/anaconda3/lib/python3.9/site-packages/carbontracker/emissions/intensity/intensity.py\", line 62, in carbon_intensity\n",
      "    carbon_intensity = fetcher.carbon_intensity(g_location, time_dur)\n",
      "  File \"/home/borge/anaconda3/lib/python3.9/site-packages/carbontracker/emissions/intensity/fetchers/energidataservice.py\", line 19, in carbon_intensity\n",
      "    ci = self._emission_current()\n",
      "  File \"/home/borge/anaconda3/lib/python3.9/site-packages/carbontracker/emissions/intensity/fetchers/energidataservice.py\", line 42, in _emission_current\n",
      "    raise exceptions.CarbonIntensityFetcherError(response.json())\n",
      "carbontracker.exceptions.CarbonIntensityFetcherError: {'help': 'https://www.energidataservice.dk/guides/api-guides', 'success': False, 'error': {'info': {'orig': ['API has moved. See https://www.energidataservice.dk/news']}, '__type': 'Not found'}}\n",
      "\n",
      "CarbonTracker: \n",
      "Actual consumption for 1 epoch(s):\n",
      "\tTime:\t0:00:11\n",
      "\tEnergy:\t0.000653 kWh\n",
      "\tCO2eq:\t0.192102 g\n",
      "\tThis is equivalent to:\n",
      "\t0.001596 km travelled by car\n",
      "CarbonTracker: INFO - Traceback (most recent call last):\n",
      "  File \"/home/borge/anaconda3/lib/python3.9/site-packages/carbontracker/emissions/intensity/intensity.py\", line 62, in carbon_intensity\n",
      "    carbon_intensity = fetcher.carbon_intensity(g_location, time_dur)\n",
      "  File \"/home/borge/anaconda3/lib/python3.9/site-packages/carbontracker/emissions/intensity/fetchers/energidataservice.py\", line 21, in carbon_intensity\n",
      "    ci = self._emission_prognosis(time_dur=time_dur)\n",
      "  File \"/home/borge/anaconda3/lib/python3.9/site-packages/carbontracker/emissions/intensity/fetchers/energidataservice.py\", line 57, in _emission_prognosis\n",
      "    raise exceptions.CarbonIntensityFetcherError(response.json())\n",
      "carbontracker.exceptions.CarbonIntensityFetcherError: {'help': 'https://www.energidataservice.dk/guides/api-guides', 'success': False, 'error': {'info': {'orig': ['API has moved. See https://www.energidataservice.dk/news']}, '__type': 'Not found'}}\n",
      "\n",
      "CarbonTracker: \n",
      "Predicted consumption for 1 epoch(s):\n",
      "\tTime:\t0:00:11\n",
      "\tEnergy:\t0.000622 kWh\n",
      "\tCO2eq:\t0.183014 g\n",
      "\tThis is equivalent to:\n",
      "\t0.001520 km travelled by car\n",
      "CarbonTracker: Finished monitoring.\n",
      "accuracy =0.973\n"
     ]
    },
    {
     "data": {
      "text/plain": [
       "0.9732"
      ]
     },
     "execution_count": 3,
     "metadata": {},
     "output_type": "execute_result"
    }
   ],
   "source": [
    "model = wrn28_10_cifar10()\n",
    "model = SoftNBDT(\n",
    "    pretrained=True,\n",
    "    dataset='CIFAR10',\n",
    "    arch='wrn28_10_cifar10',\n",
    "    model=model\n",
    ")\n",
    "\n",
    "nParam = sum(p.numel() for p in model.parameters() if p.requires_grad)\n",
    "print(f\"Parameters in model: {nParam}\")\n",
    "\n",
    "acc, carbontracker_full = test_model(model, testloader, resnet=True)\n",
    "acc"
   ]
  },
  {
   "cell_type": "markdown",
   "metadata": {},
   "source": [
    "## Decomp pretrained model and test"
   ]
  },
  {
   "cell_type": "code",
   "execution_count": 6,
   "metadata": {},
   "outputs": [
    {
     "name": "stdout",
     "output_type": "stream",
     "text": [
      "10353190\n"
     ]
    }
   ],
   "source": [
    "model = wrn28_10_cifar10()\n",
    "model = SoftNBDT(\n",
    "    pretrained=True,\n",
    "    dataset='CIFAR10',\n",
    "    arch='wrn28_10_cifar10',\n",
    "    model=model\n",
    ").to(device)\n",
    "\n",
    "factor = 4\n",
    "model = decompose(model, factor, './Models/', include_params_and_factor=True)"
   ]
  },
  {
   "cell_type": "code",
   "execution_count": 4,
   "metadata": {},
   "outputs": [
    {
     "name": "stderr",
     "output_type": "stream",
     "text": [
      "/home/borge/anaconda3/lib/python3.9/site-packages/tensorly/backend/core.py:1106: UserWarning: In partial_svd: converting to NumPy. Check SVD_FUNS for available alternatives if you want to avoid this.\n",
      "  warnings.warn('In partial_svd: converting to NumPy.'\n"
     ]
    },
    {
     "name": "stdout",
     "output_type": "stream",
     "text": [
      "10353190\n",
      "[1/5] train_loss: 1.49055 valid_loss: 1.48147\n",
      "Validation loss decreased (inf --> 1.481475).  Saving model ...\n",
      "[2/5] train_loss: 1.47657 valid_loss: 1.47598\n",
      "Validation loss decreased (1.481475 --> 1.475981).  Saving model ...\n",
      "[3/5] train_loss: 1.47283 valid_loss: 1.47364\n",
      "Validation loss decreased (1.475981 --> 1.473644).  Saving model ...\n",
      "[4/5] train_loss: 1.47065 valid_loss: 1.47201\n",
      "Validation loss decreased (1.473644 --> 1.472011).  Saving model ...\n",
      "[5/5] train_loss: 1.46939 valid_loss: 1.47070\n",
      "Validation loss decreased (1.472011 --> 1.470698).  Saving model ...\n",
      "CarbonTracker: The following components were found: GPU with device(s) NVIDIA GeForce RTX 3060 Ti. CPU with device(s) cpu:0.\n",
      "CarbonTracker: The following components were found: GPU with device(s) NVIDIA GeForce RTX 3060 Ti. CPU with device(s) cpu:0.\n",
      "CarbonTracker: INFO - Traceback (most recent call last):\n",
      "  File \"/home/borge/anaconda3/lib/python3.9/site-packages/carbontracker/emissions/intensity/intensity.py\", line 62, in carbon_intensity\n",
      "    carbon_intensity = fetcher.carbon_intensity(g_location, time_dur)\n",
      "  File \"/home/borge/anaconda3/lib/python3.9/site-packages/carbontracker/emissions/intensity/fetchers/energidataservice.py\", line 19, in carbon_intensity\n",
      "    ci = self._emission_current()\n",
      "  File \"/home/borge/anaconda3/lib/python3.9/site-packages/carbontracker/emissions/intensity/fetchers/energidataservice.py\", line 42, in _emission_current\n",
      "    raise exceptions.CarbonIntensityFetcherError(response.json())\n",
      "carbontracker.exceptions.CarbonIntensityFetcherError: {'help': 'https://www.energidataservice.dk/guides/api-guides', 'success': False, 'error': {'info': {'orig': ['API has moved. See https://www.energidataservice.dk/news']}, '__type': 'Not found'}}\n",
      "\n",
      "CarbonTracker: INFO - Traceback (most recent call last):\n",
      "  File \"/home/borge/anaconda3/lib/python3.9/site-packages/carbontracker/emissions/intensity/intensity.py\", line 62, in carbon_intensity\n",
      "    carbon_intensity = fetcher.carbon_intensity(g_location, time_dur)\n",
      "  File \"/home/borge/anaconda3/lib/python3.9/site-packages/carbontracker/emissions/intensity/fetchers/energidataservice.py\", line 19, in carbon_intensity\n",
      "    ci = self._emission_current()\n",
      "  File \"/home/borge/anaconda3/lib/python3.9/site-packages/carbontracker/emissions/intensity/fetchers/energidataservice.py\", line 42, in _emission_current\n",
      "    raise exceptions.CarbonIntensityFetcherError(response.json())\n",
      "carbontracker.exceptions.CarbonIntensityFetcherError: {'help': 'https://www.energidataservice.dk/guides/api-guides', 'success': False, 'error': {'info': {'orig': ['API has moved. See https://www.energidataservice.dk/news']}, '__type': 'Not found'}}\n",
      "\n",
      "CarbonTracker: INFO - Traceback (most recent call last):\n",
      "  File \"/home/borge/anaconda3/lib/python3.9/site-packages/carbontracker/emissions/intensity/intensity.py\", line 62, in carbon_intensity\n",
      "    carbon_intensity = fetcher.carbon_intensity(g_location, time_dur)\n",
      "  File \"/home/borge/anaconda3/lib/python3.9/site-packages/carbontracker/emissions/intensity/fetchers/energidataservice.py\", line 19, in carbon_intensity\n",
      "    ci = self._emission_current()\n",
      "  File \"/home/borge/anaconda3/lib/python3.9/site-packages/carbontracker/emissions/intensity/fetchers/energidataservice.py\", line 42, in _emission_current\n",
      "    raise exceptions.CarbonIntensityFetcherError(response.json())\n",
      "carbontracker.exceptions.CarbonIntensityFetcherError: {'help': 'https://www.energidataservice.dk/guides/api-guides', 'success': False, 'error': {'info': {'orig': ['API has moved. See https://www.energidataservice.dk/news']}, '__type': 'Not found'}}\n",
      "\n",
      "CarbonTracker: INFO - Traceback (most recent call last):\n",
      "  File \"/home/borge/anaconda3/lib/python3.9/site-packages/carbontracker/emissions/intensity/intensity.py\", line 62, in carbon_intensity\n",
      "    carbon_intensity = fetcher.carbon_intensity(g_location, time_dur)\n",
      "  File \"/home/borge/anaconda3/lib/python3.9/site-packages/carbontracker/emissions/intensity/fetchers/energidataservice.py\", line 19, in carbon_intensity\n",
      "    ci = self._emission_current()\n",
      "  File \"/home/borge/anaconda3/lib/python3.9/site-packages/carbontracker/emissions/intensity/fetchers/energidataservice.py\", line 42, in _emission_current\n",
      "    raise exceptions.CarbonIntensityFetcherError(response.json())\n",
      "carbontracker.exceptions.CarbonIntensityFetcherError: {'help': 'https://www.energidataservice.dk/guides/api-guides', 'success': False, 'error': {'info': {'orig': ['API has moved. See https://www.energidataservice.dk/news']}, '__type': 'Not found'}}\n",
      "\n",
      "CarbonTracker: \n",
      "Actual consumption for 1 epoch(s):\n",
      "\tTime:\t0:00:06\n",
      "\tEnergy:\t0.000375 kWh\n",
      "\tCO2eq:\t0.110376 g\n",
      "\tThis is equivalent to:\n",
      "\t0.000917 km travelled by car\n",
      "CarbonTracker: \n",
      "Actual consumption for 1 epoch(s):\n",
      "\tTime:\t0:00:06\n",
      "\tEnergy:\t0.000375 kWh\n",
      "\tCO2eq:\t0.110376 g\n",
      "\tThis is equivalent to:\n",
      "\t0.000917 km travelled by car\n",
      "CarbonTracker: INFO - Traceback (most recent call last):\n",
      "  File \"/home/borge/anaconda3/lib/python3.9/site-packages/carbontracker/emissions/intensity/intensity.py\", line 62, in carbon_intensity\n",
      "    carbon_intensity = fetcher.carbon_intensity(g_location, time_dur)\n",
      "  File \"/home/borge/anaconda3/lib/python3.9/site-packages/carbontracker/emissions/intensity/fetchers/energidataservice.py\", line 21, in carbon_intensity\n",
      "    ci = self._emission_prognosis(time_dur=time_dur)\n",
      "  File \"/home/borge/anaconda3/lib/python3.9/site-packages/carbontracker/emissions/intensity/fetchers/energidataservice.py\", line 57, in _emission_prognosis\n",
      "    raise exceptions.CarbonIntensityFetcherError(response.json())\n",
      "carbontracker.exceptions.CarbonIntensityFetcherError: {'help': 'https://www.energidataservice.dk/guides/api-guides', 'success': False, 'error': {'info': {'orig': ['API has moved. See https://www.energidataservice.dk/news']}, '__type': 'Not found'}}\n",
      "\n",
      "CarbonTracker: INFO - Traceback (most recent call last):\n",
      "  File \"/home/borge/anaconda3/lib/python3.9/site-packages/carbontracker/emissions/intensity/intensity.py\", line 62, in carbon_intensity\n",
      "    carbon_intensity = fetcher.carbon_intensity(g_location, time_dur)\n",
      "  File \"/home/borge/anaconda3/lib/python3.9/site-packages/carbontracker/emissions/intensity/fetchers/energidataservice.py\", line 21, in carbon_intensity\n",
      "    ci = self._emission_prognosis(time_dur=time_dur)\n",
      "  File \"/home/borge/anaconda3/lib/python3.9/site-packages/carbontracker/emissions/intensity/fetchers/energidataservice.py\", line 57, in _emission_prognosis\n",
      "    raise exceptions.CarbonIntensityFetcherError(response.json())\n",
      "carbontracker.exceptions.CarbonIntensityFetcherError: {'help': 'https://www.energidataservice.dk/guides/api-guides', 'success': False, 'error': {'info': {'orig': ['API has moved. See https://www.energidataservice.dk/news']}, '__type': 'Not found'}}\n",
      "\n",
      "CarbonTracker: \n",
      "Predicted consumption for 1 epoch(s):\n",
      "\tTime:\t0:00:06\n",
      "\tEnergy:\t0.000375 kWh\n",
      "\tCO2eq:\t0.110376 g\n",
      "\tThis is equivalent to:\n",
      "\t0.000917 km travelled by car\n",
      "CarbonTracker: \n",
      "Predicted consumption for 1 epoch(s):\n",
      "\tTime:\t0:00:06\n",
      "\tEnergy:\t0.000375 kWh\n",
      "\tCO2eq:\t0.110376 g\n",
      "\tThis is equivalent to:\n",
      "\t0.000917 km travelled by car\n",
      "CarbonTracker: Finished monitoring.\n",
      "CarbonTracker: Finished monitoring.\n",
      "accuracy =0.967\n"
     ]
    },
    {
     "data": {
      "text/plain": [
       "(0.9672, <carbontracker.tracker.CarbonTracker at 0x7fb95c441bb0>)"
      ]
     },
     "execution_count": 4,
     "metadata": {},
     "output_type": "execute_result"
    }
   ],
   "source": [
    "model = wrn28_10_cifar10()\n",
    "model = SoftNBDT(\n",
    "    pretrained=True,\n",
    "    dataset='CIFAR10',\n",
    "    arch='wrn28_10_cifar10',\n",
    "    model=model\n",
    ").to(device)\n",
    "\n",
    "factor = 4\n",
    "model = decompose(model, factor, './Models/', include_params_and_factor=True)\n",
    "\n",
    "n_epochs = 5\n",
    "patience = 15\n",
    "lr = 0.004\n",
    "save_path = f'./Results/test_decomp_{factor=}.pt'\n",
    "\n",
    "criterion = torch.nn.CrossEntropyLoss()\n",
    "optimizer = optim.SGD(model.parameters(), lr=lr, momentum=0.9, weight_decay=5e-4)\n",
    "\n",
    "train_model(model, trainloader, validloader, optimizer, criterion, n_epochs, patience, save_path, resnet=True)\n",
    "test_model(model, testloader, resnet=True)"
   ]
  },
  {
   "cell_type": "code",
   "execution_count": null,
   "metadata": {},
   "outputs": [],
   "source": []
  }
 ],
 "metadata": {
  "kernelspec": {
   "display_name": "Python 3.9.13 ('base')",
   "language": "python",
   "name": "python3"
  },
  "language_info": {
   "codemirror_mode": {
    "name": "ipython",
    "version": 3
   },
   "file_extension": ".py",
   "mimetype": "text/x-python",
   "name": "python",
   "nbconvert_exporter": "python",
   "pygments_lexer": "ipython3",
   "version": "3.9.13"
  },
  "orig_nbformat": 4,
  "vscode": {
   "interpreter": {
    "hash": "8c07cf37ca4750f7d6c99d8c949a3a440e11ae24640debb4037479ab41d9f7e0"
   }
  }
 },
 "nbformat": 4,
 "nbformat_minor": 2
}
